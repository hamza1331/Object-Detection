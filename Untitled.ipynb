{
 "cells": [
  {
   "cell_type": "code",
   "execution_count": 6,
   "metadata": {},
   "outputs": [
    {
     "name": "stdout",
     "output_type": "stream",
     "text": [
      "person  :  68.24562549591064\n",
      "person  :  52.618974447250366\n",
      "person  :  59.788960218429565\n",
      "person  :  73.30724596977234\n",
      "motorcycle  :  59.11092162132263\n",
      "bus  :  99.55623149871826\n",
      "car  :  71.76433801651001\n",
      "person  :  53.58465909957886\n",
      "person  :  69.09538507461548\n",
      "person  :  58.34836959838867\n",
      "person  :  79.31925058364868\n",
      "person  :  68.11054944992065\n",
      "person  :  71.02068662643433\n",
      "person  :  64.54129815101624\n",
      "person  :  80.9879720211029\n",
      "bicycle  :  52.27077007293701\n",
      "motorcycle  :  59.48687195777893\n",
      "person  :  72.20778465270996\n",
      "bicycle  :  93.45117807388306\n",
      "motorcycle  :  88.17613124847412\n"
     ]
    }
   ],
   "source": [
    "from imageai.Detection import ObjectDetection\n",
    "import os\n",
    "\n",
    "execution_path = os.getcwd()\n",
    "\n",
    "detector = ObjectDetection()\n",
    "detector.setModelTypeAsRetinaNet()\n",
    "detector.setModelPath( os.path.join(execution_path , \"resnet50_coco_best_v2.0.1.h5\"))\n",
    "detector.loadModel()\n",
    "detections = detector.detectObjectsFromImage(input_image=os.path.join(execution_path , \"image.jpg\"), output_image_path=os.path.join(execution_path , \"imagenew.jpg\"))\n",
    "\n",
    "for eachObject in detections:\n",
    "    print(eachObject[\"name\"] , \" : \" , eachObject[\"percentage_probability\"] )"
   ]
  },
  {
   "cell_type": "code",
   "execution_count": null,
   "metadata": {},
   "outputs": [],
   "source": []
  },
  {
   "cell_type": "code",
   "execution_count": null,
   "metadata": {},
   "outputs": [],
   "source": []
  }
 ],
 "metadata": {
  "kernelspec": {
   "display_name": "Python 3",
   "language": "python",
   "name": "python3"
  },
  "language_info": {
   "codemirror_mode": {
    "name": "ipython",
    "version": 3
   },
   "file_extension": ".py",
   "mimetype": "text/x-python",
   "name": "python",
   "nbconvert_exporter": "python",
   "pygments_lexer": "ipython3",
   "version": "3.7.1"
  }
 },
 "nbformat": 4,
 "nbformat_minor": 2
}
